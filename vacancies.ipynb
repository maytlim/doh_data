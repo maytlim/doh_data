{
  "nbformat": 4,
  "nbformat_minor": 5,
  "metadata": {
    "kernelspec": {
      "display_name": "Python 3",
      "language": "python",
      "name": "python3"
    },
    "language_info": {
      "codemirror_mode": {
        "name": "ipython",
        "version": 3
      },
      "file_extension": ".py",
      "mimetype": "text/x-python",
      "name": "python",
      "nbconvert_exporter": "python",
      "pygments_lexer": "ipython3",
      "version": "3.9.1"
    },
    "colab": {
      "name": "hosp_vacancies.ipynb",
      "provenance": [],
      "collapsed_sections": []
    }
  },
  "cells": [
    {
      "cell_type": "code",
      "metadata": {
        "id": "horizontal-national"
      },
      "source": [
        "import requests\n",
        "import pandas as pd\n",
        "import datetime\n",
        "import landline\n",
        "import gdown"
      ],
      "id": "horizontal-national",
      "execution_count": null,
      "outputs": []
    },
    {
      "cell_type": "code",
      "metadata": {
        "id": "U35Vl8q1AAn-"
      },
      "source": [
        "try:\n",
        "  import pdfx\n",
        "except ModuleNotFoundError:\n",
        "  !pip install pdfx\n",
        "  import pdfx"
      ],
      "id": "U35Vl8q1AAn-",
      "execution_count": null,
      "outputs": []
    },
    {
      "cell_type": "code",
      "metadata": {
        "id": "bHQHmC2I--e9"
      },
      "source": [
        "#Code from https://gist.github.com/korakot/51a917e1f53891d53be223439b0f75c1\n",
        "from google.colab import auth\n",
        "auth.authenticate_user()  # must authenticate\n",
        "\n",
        "'''list all ids of files directly under folder folder_id'''\n",
        "def folder_list(folder_id):\n",
        "  from googleapiclient.discovery import build\n",
        "  gdrive = build('drive', 'v3', cache_discovery=False).files()\n",
        "  #gdrive = build('drive', 'v3').files()\n",
        "  res = gdrive.list(q=\"'%s' in parents\" % folder_id).execute()\n",
        "  return [f['id'] for f in res['files']]\n",
        "\n",
        "'''download all files from a gdrive folder to current directory'''\n",
        "def folder_download(folder_id):\n",
        "  for fid in folder_list(folder_id):\n",
        "    !gdown -q --id $fid"
      ],
      "id": "bHQHmC2I--e9",
      "execution_count": null,
      "outputs": []
    },
    {
      "cell_type": "code",
      "metadata": {
        "id": "W9xA72bJA1Ac"
      },
      "source": [
        "ddrop_readme = requests.get('http://bit.ly/DataDropPH').url\n",
        "ddrop_readme = ddrop_readme.split('/')[-1].split('?')[0]\n",
        "#print(ddrop_readme)\n",
        "folder_download(ddrop_readme)"
      ],
      "id": "W9xA72bJA1Ac",
      "execution_count": null,
      "outputs": []
    },
    {
      "cell_type": "code",
      "metadata": {
        "id": "o-1L6KTt_ecr"
      },
      "source": [
        "readme_pdf = !ls *.pdf\n",
        "readme_pdf = readme_pdf[0][1:-1]\n",
        "readme_pdf\n",
        "pdfx_tmp = pdfx.PDFx(readme_pdf)\n",
        "ddlinks = pdfx_tmp.get_references_as_dict()"
      ],
      "id": "o-1L6KTt_ecr",
      "execution_count": null,
      "outputs": []
    },
    {
      "cell_type": "code",
      "metadata": {
        "id": "cHbbztWrBn5g"
      },
      "source": [
        "month_day = readme_pdf.split('_')\n",
        "month = int(month_day[0][-2:])\n",
        "day = int(month_day[1][:2])\n",
        "month, day\n",
        "year = 2021\n",
        "print('DOH DataDrop Release:', year, month, day)"
      ],
      "id": "cHbbztWrBn5g",
      "execution_count": null,
      "outputs": []
    },
    {
      "cell_type": "code",
      "metadata": {
        "id": "3Pr0oZhGLv89"
      },
      "source": [
        "downloaded = False\n",
        "for ddlink in ddlinks['url']:\n",
        "  if downloaded == False:\n",
        "    if ddlink[:15] == 'https://bit.ly/' and ddlink[-3:] != 'ive':\n",
        "      datadrop = requests.get(ddlink).url\n",
        "      datadrop = datadrop.split('/')[-1].split('?')[0]\n",
        "      folder_download(datadrop)\n",
        "      print('Downloading Data Drop...')\n",
        "      downloaded = True\n",
        "  else:\n",
        "    continue"
      ],
      "id": "3Pr0oZhGLv89",
      "execution_count": null,
      "outputs": []
    },
    {
      "cell_type": "code",
      "metadata": {
        "id": "persistent-calculator"
      },
      "source": [
        "data_date = datetime.datetime(year, month, day)\n",
        "#data_dir ='DOH COVID Data Drop_'  + data_date.strftime('%Y%m%d') + '/'"
      ],
      "id": "persistent-calculator",
      "execution_count": null,
      "outputs": []
    },
    {
      "cell_type": "code",
      "metadata": {
        "id": "excellent-reply"
      },
      "source": [
        "landline_masterlist = landline.make_masterlist()"
      ],
      "id": "excellent-reply",
      "execution_count": null,
      "outputs": []
    },
    {
      "cell_type": "code",
      "metadata": {
        "id": "quality-senior"
      },
      "source": [
        "# hospital daily patient census\n",
        "cap_filename = 'DOH COVID Data Drop_ ' + data_date.strftime('%Y%m%d') +' - 05 DOH Data Collect - Daily Report.csv'\n",
        "# hospital weekly inventory of supplies\n",
        "sup_filename = 'DOH COVID Data Drop_ ' + data_date.strftime('%Y%m%d') +' - 06 DOH Data Collect - Weekly Report.csv'\n",
        "print('weekly supplies inventory:', sup_filename)\n",
        "print('daily capability count:', cap_filename)\n",
        "hosp_code = 'hfhudcode' \n",
        "#hosp_name = 'cfname'"
      ],
      "id": "quality-senior",
      "execution_count": null,
      "outputs": []
    },
    {
      "cell_type": "code",
      "metadata": {
        "id": "editorial-truck"
      },
      "source": [
        "#load capability data\n",
        "df_cap = pd.read_csv(cap_filename)\n",
        "df_cap['cap_reportdate'] = pd.to_datetime(df_cap['reportdate'])\n",
        "df_cap.drop(['updateddate', 'addeddate', 'reportdate', 'id', 'north_coord', 'east_coord'], axis=1, inplace=True)\n",
        "df_cap[hosp_code] = df_cap[hosp_code].apply(lambda x: x.strip())"
      ],
      "id": "editorial-truck",
      "execution_count": null,
      "outputs": []
    },
    {
      "cell_type": "code",
      "metadata": {
        "id": "McfIAkP-Qtwl"
      },
      "source": [
        "df_nhfr = pd.read_json('nfhr.json')\n",
        "print('Refer to https://nhfr.doh.gov.ph/ for the latest data')"
      ],
      "id": "McfIAkP-Qtwl",
      "execution_count": null,
      "outputs": []
    },
    {
      "cell_type": "code",
      "metadata": {
        "id": "dying-jaguar"
      },
      "source": [
        "df_cap = df_cap.merge(how='left', right=df_nhfr, left_on='hfhudcode', right_on='Health Facility Code')"
      ],
      "id": "dying-jaguar",
      "execution_count": null,
      "outputs": []
    },
    {
      "cell_type": "code",
      "metadata": {
        "id": "nominated-consumer"
      },
      "source": [
        "#load supplies data\n",
        "df_sup = pd.read_csv(sup_filename)\n",
        "df_sup['sup_reportdate'] = pd.to_datetime(df_sup['reportdate'])\n",
        "df_sup.drop(['updateddate', 'addeddate', 'reportdate', 'id'], axis=1, inplace=True)\n",
        "df_sup[hosp_code] = df_sup[hosp_code].apply(lambda x: x.strip())"
      ],
      "id": "nominated-consumer",
      "execution_count": null,
      "outputs": []
    },
    {
      "cell_type": "code",
      "metadata": {
        "id": "proof-recorder"
      },
      "source": [
        "# quarantine facility daily patient census\n",
        "quarantine_daily = pd.read_csv('DOH COVID Data Drop_ ' + data_date.strftime('%Y%m%d') + ' - 08 Quarantine Facility Data - Daily Report.csv')\n",
        "# quarantine facility weekly inventory of supplies\n",
        "quarantine_weekly = pd.read_csv('DOH COVID Data Drop_ ' + data_date.strftime('%Y%m%d') + ' - 09 Quarantine Facility Data - Weekly Report.csv')"
      ],
      "id": "proof-recorder",
      "execution_count": null,
      "outputs": []
    },
    {
      "cell_type": "code",
      "metadata": {
        "id": "wireless-culture"
      },
      "source": [
        "# HCW availability\n",
        "#baseline_v3 = pd.read_csv('DOH COVID Data Drop_ ' + data_date.strftime('%Y%m%d') + ' - 10 DOH Data Collect v3 - Baseline.csv')\n",
        "# mechvent, swabbing, ipc\n",
        "#baseline_v4 = pd.read_csv('DOH COVID Data Drop_ ' + data_date.strftime('%Y%m%d') + ' - 11 DOH Data Collect v4 - Baseline.csv')\n",
        "# quarantine and isolation facilities\n",
        "#ttmf = pd.read_csv('DOH COVID Data Drop_ ' + data_date.strftime('%Y%m%d') + ' - 12 DDC TTMF Tracker v1 - Baseline.csv')"
      ],
      "id": "wireless-culture",
      "execution_count": null,
      "outputs": []
    },
    {
      "cell_type": "code",
      "metadata": {
        "id": "interim-adams"
      },
      "source": [
        "#print('{0}\\n{1}'.format(df_cap.keys(), df_sup.keys()))\n",
        "#print('{0}\\n{1}'.format(quarantine_weekly.keys(), quarantine_daily.keys()))"
      ],
      "id": "interim-adams",
      "execution_count": null,
      "outputs": []
    },
    {
      "cell_type": "code",
      "metadata": {
        "id": "resistant-environment"
      },
      "source": [
        "reg_lookup = {'NCR': 'NATIONAL CAPITAL REGION (NCR)', 'ARMM': 'AUTONOMOUS REGION IN MUSLIM MINDANAO (ARMM)', 'CAR': 'CORDILLERA ADMINISTRA TIVE REGION (CAR)', \n",
        "              'I': 'REGION I (ILOCOS REGION)', 'II': 'REGION II (CAGAYAN VALLEY)', 'III': 'REGION III (CENTRAL LUZON)', 'IV-A': 'REGION IV-A (CALABAR ZON)',\n",
        "              'IV-B': 'REGION IV-B (MIMAROPA)', 'V': 'REGION V (BICOL REGION)', 'VI': 'REGION VI (WESTERN VISAYAS)', 'VII': 'REGION VII (CENTRAL VISAYAS)',\n",
        "              'VIII': 'REGION VIII (EASTERN VISAYAS)', 'IX': 'REGION IX (ZAMBOANGA PENINSULA)', 'X': 'REGION X (NORTHERN MINDANAO)', \n",
        "              'XI': 'REGION XI (DAVAO REGION)', 'XII': 'REGION XII (SOCCSKSA RGEN)', 'XIII': 'REGION XIII (CARAGA)'}"
      ],
      "id": "resistant-environment",
      "execution_count": null,
      "outputs": []
    },
    {
      "cell_type": "code",
      "metadata": {
        "id": "falling-cursor"
      },
      "source": [
        "prefix = ['ics', 'resdoc', 'nurse', 'medtech', 'respthe', 'radtech', 'support']\n",
        "suffix = ['_total', '_er', '_icu', '_ward'] \n",
        "triage = ['resdoc_triage', 'nurse_triage', 'support_triage']\n",
        "added = ['Augmen_total']"
      ],
      "id": "falling-cursor",
      "execution_count": null,
      "outputs": []
    },
    {
      "cell_type": "code",
      "metadata": {
        "id": "weRAm30yRf_h"
      },
      "source": [
        "def day_ago_from(n, from_date):\n",
        "  showdate = from_date - datetime.timedelta(hours=24)*n\n",
        "  return showdate.strftime('%Y-%m-%d')"
      ],
      "id": "weRAm30yRf_h",
      "execution_count": null,
      "outputs": []
    },
    {
      "cell_type": "code",
      "metadata": {
        "id": "VKrNEtB9cnba"
      },
      "source": [
        "def show_filtered(df_cap, days_ago, region='NATIONAL CAPITAL REGION (NCR)'):\n",
        "  filter = (df_cap.mechvent_v > 0) & \\\n",
        "    (df_cap.cap_reportdate == day_ago_from(days_ago, data_date)) & \\\n",
        "    (df_cap.region == region) & \\\n",
        "    (df_cap.icu_v > 0) & \\\n",
        "    (df_cap.icu_o > 0)\n",
        "  df_vacant = df_cap[filter][['cap_reportdate', 'cfname', 'city_mun', 'icu_v', 'isolbed_v', 'mechvent_v', 'beds_ward_v', \n",
        "                            'icu_o', 'isolbed_o', 'mechvent_o', 'beds_ward_o', \n",
        "                            'Landline Number', 'Landline Number 2', 'Fax Number', 'Ownership Major Classification']]\n",
        "  df_vacant.rename({'Landline Number': 'landline', 'Landline Number 2': 'landline2', 'Fax Number': 'fax', 'Ownership Major Classification':'ownership'}, axis=1, inplace=True)\n",
        "  df_vacant['landline'] = df_vacant['landline'].apply(lambda x: landline.convert_landline(x, landline_masterlist))\n",
        "  df_vacant['landline2'] = df_vacant['landline2'].apply(lambda x: landline.convert_landline(x, landline_masterlist))\n",
        "  df_vacant['fax'] = df_vacant['fax'].apply(lambda x: landline.convert_landline(x, landline_masterlist))\n",
        "  df_vacant.sort_values(by='icu_v', ascending=False, inplace=True)\n",
        "  df_vacant.reset_index(inplace=True)\n",
        "  return df_vacant"
      ],
      "id": "VKrNEtB9cnba",
      "execution_count": null,
      "outputs": []
    },
    {
      "cell_type": "code",
      "metadata": {
        "id": "75_PN0TCc9_i"
      },
      "source": [
        "show_filtered(df_cap, days_ago=3)"
      ],
      "id": "75_PN0TCc9_i",
      "execution_count": null,
      "outputs": []
    },
    {
      "cell_type": "code",
      "metadata": {
        "id": "accompanied-forth"
      },
      "source": [
        "show_filtered(df_cap, days_ago=2)"
      ],
      "id": "accompanied-forth",
      "execution_count": null,
      "outputs": []
    },
    {
      "cell_type": "code",
      "metadata": {
        "id": "avDsdZQPsQrY"
      },
      "source": [
        "show_filtered(df_cap, days_ago=1)"
      ],
      "id": "avDsdZQPsQrY",
      "execution_count": null,
      "outputs": []
    },
    {
      "cell_type": "code",
      "metadata": {
        "id": "yDXR4E1NsToV"
      },
      "source": [
        "show_filtered(df_cap, days_ago=1, region=reg_lookup['II'])"
      ],
      "id": "yDXR4E1NsToV",
      "execution_count": null,
      "outputs": []
    },
    {
      "cell_type": "code",
      "metadata": {
        "id": "3NSOAxE1v0mk"
      },
      "source": [
        "show_filtered(df_cap, days_ago=1, region=reg_lookup['IV-A'])"
      ],
      "id": "3NSOAxE1v0mk",
      "execution_count": null,
      "outputs": []
    },
    {
      "cell_type": "code",
      "metadata": {
        "id": "HOtZudMOwOwS"
      },
      "source": [
        "show_filtered(df_cap, days_ago=1, region='REGION II (CAGAYAN VALLEY)')"
      ],
      "id": "HOtZudMOwOwS",
      "execution_count": null,
      "outputs": []
    },
    {
      "cell_type": "code",
      "metadata": {
        "id": "INY8JQTvYVC5"
      },
      "source": [
        "roi = reg_lookup['NCR']\n",
        "#roi = reg_lookup['II']\n",
        "#roi = reg_lookup['IV-A']\n",
        "filter = (df_cap.cap_reportdate == day_ago_from(1, data_date)) & (df_cap.region == roi)\n",
        "occupied = df_cap[filter]['icu_o'].sum()\n",
        "vacant = df_cap[filter]['icu_v'].sum()\n",
        "pct_used = (occupied / (vacant + occupied)) * 100\n",
        "print('[', roi, ']:', round(pct_used), '% ICU rooms utilized, ',  int(vacant), 'vacant')"
      ],
      "id": "INY8JQTvYVC5",
      "execution_count": null,
      "outputs": []
    },
    {
      "cell_type": "code",
      "metadata": {
        "id": "wBJDLHqGaICi"
      },
      "source": [
        ""
      ],
      "id": "wBJDLHqGaICi",
      "execution_count": null,
      "outputs": []
    }
  ]
}